{
 "cells": [
  {
   "cell_type": "code",
   "execution_count": null,
   "metadata": {},
   "outputs": [],
   "source": [
    "#-*- coding: utf-8 -*-\n",
    "import numpy as np\n",
    "from matplotlib import pyplot as plt\n",
    "from timeit import timeit\n",
    "# 将列表中的数据切片读入矩阵\n",
    "def Read(lines,m,n):\n",
    "    A = np.zeros((m, n))\n",
    "    A_row = 0  # 表示矩阵的行，从0行开始\n",
    "    for line in lines:  # 把lines中的数据逐行读取出来\n",
    "        list = line.strip('\\n').split('\\t')  # 处理逐行数据：strip表示把头尾的'\\n'去掉，split表示以空格来分割行数据，然后把处理后的行数据返回到list列表中\n",
    "        A[A_row:] = list[0:5]  # 把处理后的数据放到方阵A中。list[0:4]表示列表的0,1,2,3列数据放到矩阵A中的A_row行\n",
    "        A_row += 1  # 然后方阵A的下一行接着读\n",
    "    return A \n",
    "def DataInit(): \n",
    "    '''1.读取训练集和测试集'''\n",
    "    f1,f2 = open('train.txt'),open('test.txt') # 打开训练集和测试集\n",
    "    lines1,lines2 = f1.readlines(),f2.readlines() # 把全部数据文件读到一个列表lines中\n",
    "    Line1,Line2 = len(lines1),len(lines2) # 读取训练集合测试集的行数\n",
    "    A,B = Read(lines1,Line1,5),Read(lines2,Line2,5)\n",
    "    return A,B"
   ]
  }
 ],
 "metadata": {
  "kernelspec": {
   "display_name": "Python 3.8.13 ('TensorFlow')",
   "language": "python",
   "name": "python3"
  },
  "language_info": {
   "name": "python",
   "version": "3.8.13 (default, Mar 28 2022, 06:59:08) [MSC v.1916 64 bit (AMD64)]"
  },
  "orig_nbformat": 4,
  "vscode": {
   "interpreter": {
    "hash": "87f260ffaeded45f1acf8448c3b8b71767c85ac4ba0c4fa9037538ab1c4e43c8"
   }
  }
 },
 "nbformat": 4,
 "nbformat_minor": 2
}
