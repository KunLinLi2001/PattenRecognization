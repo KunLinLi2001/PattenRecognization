{
 "cells": [
  {
   "cell_type": "code",
   "execution_count": 1,
   "metadata": {},
   "outputs": [],
   "source": [
    "#-*- coding: utf-8 -*-\n",
    "import numpy as np\n",
    "from matplotlib import pyplot as plt\n",
    "\n",
    "# 将列表中的数据切片读入矩阵\n",
    "def Read(lines,m,n):\n",
    "    A = np.zeros((m, n))\n",
    "    A_row = 0  # 表示矩阵的行，从0行开始\n",
    "    for line in lines:  # 把lines中的数据逐行读取出来\n",
    "        list = line.strip('\\n').split('\\t')  # 处理逐行数据：strip表示把头尾的'\\n'去掉，split表示以空格来分割行数据，然后把处理后的行数据返回到list列表中\n",
    "        A[A_row:] = list[0:5]  # 把处理后的数据放到方阵A中。list[0:4]表示列表的0,1,2,3列数据放到矩阵A中的A_row行\n",
    "        A_row += 1  # 然后方阵A的下一行接着读\n",
    "    return A\n"
   ]
  },
  {
   "cell_type": "code",
   "execution_count": 2,
   "metadata": {},
   "outputs": [],
   "source": [
    "\n",
    "'''\n",
    "1.读取训练集和测试集\n",
    "注:在此处统计行数是为了兼容不同的样本集,\n",
    "因为理论上说我们事先不会知晓有多少组数据\n",
    "'''\n",
    "f1 = open('F:\\\\Code\\\\Mode Regonization\\\\Iris\\\\Fisher\\\\train.txt') # 打开训练集\n",
    "f2 = open('F:\\\\Code\\\\Mode Regonization\\\\Iris\\\\Fisher\\\\test.txt') # 打开测试集\n",
    "lines1 = f1.readlines() # 把全部数据文件读到一个列表lines中\n",
    "lines2 = f2.readlines()\n",
    "Line1 = len(lines1) # 读取训练集行数\n",
    "Line2 = len(lines2) # 读取训练集列数\n",
    "A = Read(lines1,Line1,5)\n",
    "B = Read(lines2,Line2,5)\n"
   ]
  },
  {
   "cell_type": "code",
   "execution_count": 3,
   "metadata": {},
   "outputs": [],
   "source": [
    "'''\n",
    "2.将三类训练样本拆分\n",
    "第四组使用第1、3个特征,画出第一类和第三类之间的分类面。\n",
    "在删除1、3、5列后\n",
    "A1 A3分别代表存储1、3特征的矩阵\n",
    "A1[0]为第一对1、3特征向量 A1[0]=[5.1 1.4]\n",
    "'''\n",
    "# 删除1、3、5列(类别号、第二个特征、第四个特征)\n",
    "A = np.delete(A,[0,2,4],axis=1)\n",
    "# 提取第一类和第三类数据集\n",
    "A1,A3 = A[0:25],A[50:75]\n"
   ]
  },
  {
   "cell_type": "code",
   "execution_count": 4,
   "metadata": {},
   "outputs": [
    {
     "name": "stdout",
     "output_type": "stream",
     "text": [
      "[5.028 1.46 ]\n"
     ]
    }
   ],
   "source": [
    "'''\n",
    "3.计算两类均值向量\n",
    "axis=0代表对矩阵的每一列求均值\n",
    "所得的mean1和mean2均为1*2向量\n",
    "'''\n",
    "mean1 = np.mean(A1,axis=0)\n",
    "mean2 = np.mean(A3,axis=0)\n",
    "print(mean1)"
   ]
  },
  {
   "cell_type": "code",
   "execution_count": 5,
   "metadata": {},
   "outputs": [],
   "source": [
    "'''\n",
    "4.计算总的类内离散度矩阵\n",
    "A1-mean1代表数据集每一组对应的(x,y)向量对与两个特征的均值向量相减\n",
    "该矩阵与自身转置相乘得到的n*n矩阵就是该类别的类内离散度矩阵\n",
    "在本题是2*2,类内离散度矩阵求和变为总类内离散度矩阵\n",
    "'''\n",
    "s1 = A1-mean1\n",
    "s1 = np.dot(s1.transpose(),s1)\n",
    "s2 = A3-mean2\n",
    "s2 = np.dot(s2.transpose(),s2)\n",
    "s = s1+s2"
   ]
  },
  {
   "cell_type": "code",
   "execution_count": 6,
   "metadata": {},
   "outputs": [
    {
     "name": "stdout",
     "output_type": "stream",
     "text": [
      "[ 0.34809382 -1.06008944]\n",
      "1.6462122116433664\n"
     ]
    }
   ],
   "source": [
    "'''\n",
    "5.计算投影方向和阈值\n",
    "投影方向:\n",
    "    Sw^-1*(m1-m2)\n",
    "    后面的均值向量应是列向量\n",
    "阈值:\n",
    "    w0 = -0.5*(~m1+~m2)-(1/(N1+N2-2))*ln[P(w1)/p(w2)]\n",
    "    在这里我们知道在这两类中,先验概率均为0.5\n",
    "    因此-(1/(N1+N2-2))*ln[P(w1)/p(w2)]必为0\n",
    "    得出:w0 = -0.5*(~m1+~m2)\n",
    "    其中~m代表所有样本在投影后的均值\n",
    "    ~m1 = 投影方向 * mean1【矩阵相乘】\n",
    "    下面给~m1变量取名为mm1\n",
    "'''\n",
    "Mean = mean1-mean2\n",
    "direction = np.dot(np.linalg.inv(s),Mean.transpose()) # 投影方向\n",
    "mm1 = np.dot(mean1,direction) # 第一类在投影后的均值\n",
    "mm2 = np.dot(mean2,direction)\n",
    "w0 = -0.5*(mm1 + mm2) # 阈值\n",
    "print(direction)\n",
    "print(w0)"
   ]
  },
  {
   "cell_type": "code",
   "execution_count": 7,
   "metadata": {},
   "outputs": [
    {
     "name": "stdout",
     "output_type": "stream",
     "text": [
      "基于Fisher线性判别：\n",
      "正确个数： 50\n",
      "错误个数： 0\n",
      "准确率： 1.0\n"
     ]
    }
   ],
   "source": [
    "'''\n",
    "6.对测试数据进行分类\n",
    "B_test存储着测试集，每一行均为一对特征向量\n",
    "将每一对特征向量向投影方向做投影w^T*x\n",
    "w^T*x+w0 > 0  则为第一类\n",
    "反之为第二类\n",
    "'''\n",
    "# 计算准确率\n",
    "def count_accuracy(true,false,id,Id):\n",
    "    if id==Id:\n",
    "        true+=1\n",
    "    else:\n",
    "        false+=1\n",
    "    return true,false\n",
    "true,false = 0,0\n",
    "# 删除3、5列(第二个特征、第四个特征)\n",
    "B = np.delete(B,[2,4],axis=1)\n",
    "B_test = np.zeros([50,3])\n",
    "B_test[0:25] = B[0:25]\n",
    "B_test[25:50] = B[50:75]\n",
    "# 遍历测试集\n",
    "res1,res2 = [],[]\n",
    "for i in range(0,50):\n",
    "    B_row = B_test[i] # 取出第i行\n",
    "    id = B_row[0] # 取出测试集实际标号\n",
    "    B_row = np.delete(B_row,0) # 矩阵中删除类别号\n",
    "    y = np.dot(B_row,direction)+w0 # 投影值\n",
    "    if y > 0:\n",
    "        res1.append(B_row)\n",
    "        Id = 1.0\n",
    "    else :\n",
    "        res2.append(B_row)\n",
    "        Id = 3.0\n",
    "    true,false = count_accuracy(true,false,id,Id)\n",
    "\n",
    "print(\"基于Fisher线性判别：\")\n",
    "print(\"正确个数：\",true)\n",
    "print(\"错误个数：\",false)\n",
    "print(\"准确率：\",true/(true+false))\n",
    "\n",
    "# M = B_test[0] \n",
    "# M = np.delete(M,0) # 删除第一列(类别号)删除类别号\n",
    "# print(M)\n",
    "# print(direction)\n",
    "# print(np.dot(M,direction))\n"
   ]
  },
  {
   "cell_type": "code",
   "execution_count": 8,
   "metadata": {},
   "outputs": [],
   "source": [
    "'''\n",
    "7.计算测试集在投影方向这条直线上的点\n",
    "将方向向量归一成单位向量\n",
    "dir_point代表投影到直线上的点\n",
    "50*2 * 2*1 *1*2\n",
    "'''\n",
    "dire = np.zeros((2,1))\n",
    "# 计算方向向量的单位向量，分母为向量的模\n",
    "dire[0] = direction[0]/(np.linalg.norm(direction,ord=2,axis=None,keepdims=False))\n",
    "dire[1] = direction[1]/(np.linalg.norm(direction,ord=2,axis=None,keepdims=False))\n",
    "dir_point = np.zeros((50,2))\n",
    "B_test = np.delete(B_test,0,axis=1) # 删除第一列(类别号)\n",
    "# 计算测试集在投影方向这条直线上的点\n",
    "dire_tran = dire.transpose()\n",
    "dir_point = np.dot(np.dot(B_test,dire),dire_tran)\n"
   ]
  },
  {
   "cell_type": "code",
   "execution_count": 9,
   "metadata": {},
   "outputs": [
    {
     "data": {
      "image/png": "[encoded data removed]",
      "text/plain": [
       "<Figure size 640x480 with 1 Axes>"
      ]
     },
     "metadata": {},
     "output_type": "display_data"
    }
   ],
   "source": [
    "'''8.对分类结果进行绘图'''\n",
    "plt.rcParams['font.sans-serif']=['SimHei'] #用来正常显示中文标签\n",
    "plt.rcParams['axes.unicode_minus']=False #用来正常显示负号\n",
    "dir=plt.plot([-5*direction[0],2*direction[0]],[-5*direction[1],2*direction[1]],label='投影方向')#画出最佳投影方向\n",
    "# 将分类结果转换为矩阵\n",
    "res1 = np.mat(res1)\n",
    "res2 = np.mat(res2)\n",
    "'''\n",
    "(1)画出分别属于第一类和第三类的各点\n",
    "其中plt.scatter是绘制散点图，np.tolist为矩阵转列表\n",
    "'''\n",
    "point1 = plt.scatter(res1[:,0].tolist(),res1[:,1].tolist(),marker = '+')\n",
    "point2 = plt.scatter(res2[:,0].tolist(),res2[:,1].tolist(),c='red',marker = '+')\n",
    "'''\n",
    "(2)画出阈值在投影前的点以及阈值投影在直线上的点\n",
    "并将两点连线，画出分类面。\n",
    "'''\n",
    "mean12 = 0.5*(mean1+mean2) # 实际空间的阈值点\n",
    "mean21 = np.dot(np.dot(mean12,dire),dire_tran) # 阈值在投影方向的投影点坐标\n",
    "point_mean1 = plt.scatter(mean12[0],mean12[1])\n",
    "point_mean2 = plt.scatter(mean21[0],mean21[1])\n",
    "classify = plt.plot([mean12[0],mean21[0]],[mean12[1],mean21[1]],c='black',linestyle='dashed',label='分类面')#画出分类面\n",
    "plt.legend()\n",
    "'''\n",
    "(3)画出测试集各点在投影方向上的投影点\n",
    "'''\n",
    "p = plt.scatter(dir_point[:,0].tolist(),dir_point[:,1].tolist(),marker='*')\n",
    "'''\n",
    "(4)对所绘制图像增添一些图文符号解释\n",
    "'''\n",
    "plt.legend([point1,point2,point_mean1,point_mean2,p],['判别为第一类','判别为第三类','阈值点','阈值的投影点','测试集投影点'])\n",
    "plt.show()"
   ]
  }
 ],
 "metadata": {
  "kernelspec": {
   "display_name": "Python 3.8.13 ('TensorFlow')",
   "language": "python",
   "name": "python3"
  },
  "language_info": {
   "codemirror_mode": {
    "name": "ipython",
    "version": 3
   },
   "file_extension": ".py",
   "mimetype": "text/x-python",
   "name": "python",
   "nbconvert_exporter": "python",
   "pygments_lexer": "ipython3",
   "version": "3.8.13"
  },
  "orig_nbformat": 4,
  "vscode": {
   "interpreter": {
    "hash": "87f260ffaeded45f1acf8448c3b8b71767c85ac4ba0c4fa9037538ab1c4e43c8"
   }
  }
 },
 "nbformat": 4,
 "nbformat_minor": 2
}
